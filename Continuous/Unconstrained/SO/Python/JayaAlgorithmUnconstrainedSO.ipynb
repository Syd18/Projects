{
 "cells": [
  {
   "cell_type": "markdown",
   "id": "25590551",
   "metadata": {},
   "source": [
    "# Jaya Algorithm (Unconstrained Single Objective)\n",
    "### Benchmark Function: Rosenbrock Function"
   ]
  },
  {
   "cell_type": "code",
   "execution_count": 1,
   "id": "2375d4ce",
   "metadata": {},
   "outputs": [],
   "source": [
    "import numpy as np\n",
    "import matplotlib.pyplot as plt\n",
    "\n",
    "population_size= 25\n",
    "variables = 30\n",
    "maximum_fun_eval = 500000\n",
    "termination_criteria = maximum_fun_eval // population_size\n",
    "lower_bound = np.array([-30] * variables)\n",
    "upper_bound = np.array([30] * variables)\n",
    "population = np.random.uniform(low=lower_bound, high=upper_bound, size=(population_size, variables))\n",
    "#print(f\"\\nInitial Population: \\n{population}\")"
   ]
  },
  {
   "cell_type": "code",
   "execution_count": 2,
   "id": "0b04e76c",
   "metadata": {},
   "outputs": [],
   "source": [
    "def fitness_function(population):\n",
    "    squared_term = np.power(population[:, 1:] - np.power(population[:, :-1], 2), 2)\n",
    "    fitness = np.sum(100 * squared_term + np.power(1 - population[:, :-1], 2), axis=1)\n",
    "    return fitness"
   ]
  },
  {
   "cell_type": "code",
   "execution_count": 3,
   "id": "3bd90d36",
   "metadata": {},
   "outputs": [],
   "source": [
    "def update_population(population, fitness):\n",
    "    best_indx = np.argmin(fitness)\n",
    "    best = population[best_indx]\n",
    "    #print(f\"\\nBest Solution: \\n{best}\")\n",
    "    worst_indx = np.argmax(fitness)\n",
    "    worst = population[worst_indx]\n",
    "    #print(f\"\\n Worst Solution: \\n{worst}\")\n",
    "    updated_population=np.zeros([population_size,variables])\n",
    "    row,column=population.shape\n",
    "    for i in range(row):\n",
    "        for j in range(column):\n",
    "            r = np.random.rand(2)\n",
    "            updated_population[i,j] = population[i,j] + r[0] * (best[j] - np.abs(population[i,j])) - r[1] * (worst[j] - np.abs(population[i,j]))\n",
    "            #print( updated_population)\n",
    "    return updated_population"
   ]
  },
  {
   "cell_type": "code",
   "execution_count": 4,
   "id": "928a3af8",
   "metadata": {},
   "outputs": [],
   "source": [
    "def trimmer(lower_bound, upper_bound, population):\n",
    "    population = np.clip(population, lower_bound, upper_bound)\n",
    "    return population"
   ]
  },
  {
   "cell_type": "code",
   "execution_count": 5,
   "id": "55aad04c",
   "metadata": {},
   "outputs": [],
   "source": [
    "def greedy_selection(population, fitness, updated_population, updated_fitness):\n",
    "    better_indices = updated_fitness < fitness\n",
    "    #print(better_indices)\n",
    "    population[better_indices] = updated_population[better_indices]\n",
    "    #print(population)\n",
    "    fitness[better_indices] = updated_fitness[better_indices]\n",
    "    #print(fitness)\n",
    "    return population, fitness"
   ]
  },
  {
   "cell_type": "code",
   "execution_count": null,
   "id": "63c44275",
   "metadata": {},
   "outputs": [],
   "source": [
    "max_runs = 8\n",
    "runwise_fitness = np.zeros((termination_criteria, max_runs))\n",
    "#print(f\"\\n Empty Runwise Fitness: {runwise_fitness}\")\n",
    "index=np.zeros(max_runs)\n",
    "run_best=np.zeros(max_runs)\n",
    "Function_Evaluation=np.zeros(max_runs)\n",
    "mean_best_run=np.zeros(max_runs)\n",
    "for run in range(max_runs):\n",
    "    fitness = fitness_function(population)\n",
    "\n",
    "    for generation in range(termination_criteria):\n",
    "        updated_population = update_population(population, fitness)\n",
    "        updated_population = trimmer(lower_bound, upper_bound, updated_population)\n",
    "        updated_fitness = fitness_function(updated_population)\n",
    "        population, fitness = greedy_selection(population, fitness, updated_population, updated_fitness)\n",
    "        runwise_fitness[generation, run] = np.min(fitness)\n",
    "        #print(f\"FitRun: {runwise_fitness}\")\n",
    "    index=(np.argmin(runwise_fitness,axis=0))+1\n",
    "    run_best=np.min(runwise_fitness,axis=0)\n",
    "    mean_best_run=np.median(runwise_fitness,axis=0)\n",
    "    Function_Evaluation=population_size*index;\n",
    "    #plt.plot(iteration, runwise_fitness[:, run], label=f'Run {run + 1}')\n",
    "\n",
    "print(f\"Runwise Fitness: \\n {runwise_fitness}\")\n",
    "\n",
    "#Final Output\n",
    "UltimateBest=np.min(run_best)\n",
    "print(f\"Ultimate Best: {UltimateBest}\")\n",
    "UltimateMeanBest=np.mean(run_best)\n",
    "print(f\"Ultimate Mean Best: {UltimateMeanBest}\")\n",
    "UltimateMedianBest=np.median(run_best)\n",
    "print(f\"Ultimate Median Best: {UltimateMedianBest}\")\n",
    "UltimateWorstBest=np.max(run_best)\n",
    "print(f\"Ultimate Worst Best: {UltimateWorstBest}\")\n",
    "UltimateSTDBest=np.std(run_best)\n",
    "print(f\"Ultimate STD Best: {UltimateSTDBest}\")\n",
    "mFes=np.mean(Function_Evaluation)\n",
    "print(f\"Mean FEs: {mFes}\")\n",
    "stdFes=np.std(Function_Evaluation)\n",
    "print(f\"STD FEs: {stdFes}\")\n",
    "\n",
    "#Plotting\n",
    "iteration = np.arange(1, termination_criteria + 1)\n",
    "for run in range(max_runs):\n",
    "    plt.plot(iteration, runwise_fitness[:, run], label=f'Run {run + 1}')        \n",
    "\n",
    "plt.xlabel('Iteration')\n",
    "plt.ylabel('Runwise Fitness')\n",
    "plt.title('Convergence Curve')\n",
    "plt.grid(True)\n",
    "plt.legend()\n",
    "plt.show()"
   ]
  },
  {
   "cell_type": "code",
   "execution_count": null,
   "id": "9cc7dab5",
   "metadata": {},
   "outputs": [],
   "source": [
    "#Plotting Additional\n",
    "plt.scatter(Function_Evaluation,mean_best_run, marker='*', cmap='viridis', edgecolors='red', s=100, alpha=0.7)\n",
    "plt.xlabel('Function Evaluation')\n",
    "plt.ylabel('Mean Run Best')\n",
    "plt.title('Function Evaluation vs Mean Run Best')\n",
    "plt.colorbar()\n",
    "plt.grid(True)\n",
    "plt.show()\n",
    "\n",
    "plt.scatter(Function_Evaluation,run_best,marker='*', cmap='viridis', edgecolors='black', s=100, alpha=0.7)\n",
    "plt.xlabel('Function Evaluation')\n",
    "plt.ylabel('Best Run Fitness')\n",
    "plt.title('Function Evaluation vs Best Run Fitness')\n",
    "plt.colorbar()\n",
    "plt.grid(True)\n",
    "plt.show()"
   ]
  },
  {
   "cell_type": "code",
   "execution_count": null,
   "id": "b8b47c06",
   "metadata": {},
   "outputs": [],
   "source": []
  }
 ],
 "metadata": {
  "kernelspec": {
   "display_name": "Python 3 (ipykernel)",
   "language": "python",
   "name": "python3"
  },
  "language_info": {
   "codemirror_mode": {
    "name": "ipython",
    "version": 3
   },
   "file_extension": ".py",
   "mimetype": "text/x-python",
   "name": "python",
   "nbconvert_exporter": "python",
   "pygments_lexer": "ipython3",
   "version": "3.11.5"
  }
 },
 "nbformat": 4,
 "nbformat_minor": 5
}
